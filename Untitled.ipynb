{
 "cells": [
  {
   "cell_type": "code",
   "execution_count": 17,
   "metadata": {},
   "outputs": [
    {
     "name": "stdout",
     "output_type": "stream",
     "text": [
      "Selesai\n"
     ]
    }
   ],
   "source": [
    "import csv \n",
    " \n",
    "#file dari hasil kodingan\n",
    "myFile = open('hasil.csv', 'w')\n",
    "\n",
    "#Pembuatan kolom\n",
    "myFields = ['Name', 'Role'] \n",
    " \n",
    "with myFile: \n",
    "    #penulisan hasil ke dalam file hasil.csv dengan kolom sesuai dgn isi pada variabel myFields\n",
    "    writer = csv.DictWriter(myFile, fieldnames=myFields)  \n",
    " \n",
    "    with open('test.csv') as csvfile: \n",
    "        readCSV = csv.reader(csvfile) \n",
    " \n",
    "        role = '' \n",
    " \n",
    "        writer.writeheader() \n",
    " \n",
    "        #pembuatan baris pada hasil kodingan\n",
    "        for row in readCSV: \n",
    " \n",
    "            try: \n",
    "                movespeed = int(row[1]) \n",
    "                mana = int(row[5]) \n",
    "                armor = int(row[3]) \n",
    "                physic = int(row[2]) \n",
    "                hp = int(row[4]) \n",
    "            except ValueError: \n",
    "                movespeed = 0 \n",
    "                mana = 0 \n",
    "                armor = 0 \n",
    "                physic = 0 \n",
    "                hp = 0 \n",
    " \n",
    "        # suatu kondisi yang akan mengkategorikan peranan tiap-tiap tokoh sesuai dgn data yg dimiliki\n",
    "            if movespeed >= 270: \n",
    "                role = 'MARKSMAN' \n",
    "            else: \n",
    "                if mana >= 500: \n",
    "                    role = 'MAGE' \n",
    "                else: \n",
    "                    if armor >= 25: \n",
    "                        role = 'TANK' \n",
    "                    else: \n",
    "                        if physic >= 121: \n",
    "                            role = 'ASSASSIN' \n",
    "                        else:  \n",
    "                            if hp >= 2580:  \n",
    "                                role = 'FIGHTER' \n",
    "                            else: \n",
    "                                role = 'SUPPORT' \n",
    " \n",
    "            writer.writerow({'Name' : row[0],'Role': role}) \n",
    " \n",
    "        print(\"Selesai\");"
   ]
  },
  {
   "cell_type": "code",
   "execution_count": null,
   "metadata": {
    "collapsed": true
   },
   "outputs": [],
   "source": []
  },
  {
   "cell_type": "code",
   "execution_count": null,
   "metadata": {
    "collapsed": true
   },
   "outputs": [],
   "source": []
  }
 ],
 "metadata": {
  "kernelspec": {
   "display_name": "Python 3",
   "language": "python",
   "name": "python3"
  }
 },
 "nbformat": 4,
 "nbformat_minor": 2
}
